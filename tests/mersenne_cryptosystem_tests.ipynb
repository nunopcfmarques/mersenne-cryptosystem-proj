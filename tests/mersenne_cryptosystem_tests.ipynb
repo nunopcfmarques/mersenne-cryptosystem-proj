{
 "cells": [
  {
   "cell_type": "code",
   "execution_count": 1,
   "metadata": {},
   "outputs": [],
   "source": [
    "import sys\n",
    "import os\n",
    "\n",
    "notebook_dir = os.getcwd()\n",
    "parent_dir = os.path.dirname(notebook_dir)\n",
    "src_dir = os.path.join(parent_dir, 'src')\n",
    "\n",
    "sys.path.append(src_dir)\n",
    "\n",
    "from mersenne_cryptosystem import *"
   ]
  },
  {
   "cell_type": "code",
   "execution_count": 2,
   "metadata": {},
   "outputs": [],
   "source": [
    "lamb = 52\n",
    "n = 11213\n",
    "h = lamb\n",
    "\n",
    "mcs = MersenneCryptosystem(lamb, n, h)"
   ]
  },
  {
   "cell_type": "code",
   "execution_count": 3,
   "metadata": {},
   "outputs": [
    {
     "name": "stdout",
     "output_type": "stream",
     "text": [
      "Era uma vez um cavalo que era belo e bem parado\n"
     ]
    }
   ],
   "source": [
    "m = bitarray(string_to_bits(\"Era uma vez um cavalo que era belo e bem parado\"))\n",
    "\n",
    "m_prime = bitarray()\n",
    "\n",
    "pk, sk = mcs.bit_by_bit_key_gen()\n",
    "\n",
    "for char in m:\n",
    "    cypher_bit = mcs.bit_by_bit_enc(pk, char)\n",
    "    dec_bit = mcs.bit_by_bit_dec(sk, cypher_bit)\n",
    "    if dec_bit == '⊥':\n",
    "        dec_bit = '00100000' #whitespace\n",
    "    m_prime += dec_bit\n",
    "\n",
    "print(bits_to_string(m_prime))\n"
   ]
  }
 ],
 "metadata": {
  "kernelspec": {
   "display_name": "Python 3",
   "language": "python",
   "name": "python3"
  },
  "language_info": {
   "codemirror_mode": {
    "name": "ipython",
    "version": 3
   },
   "file_extension": ".py",
   "mimetype": "text/x-python",
   "name": "python",
   "nbconvert_exporter": "python",
   "pygments_lexer": "ipython3",
   "version": "3.10.12"
  }
 },
 "nbformat": 4,
 "nbformat_minor": 2
}
