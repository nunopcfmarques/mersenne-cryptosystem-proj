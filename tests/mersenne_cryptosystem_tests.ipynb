{
 "cells": [
  {
   "cell_type": "code",
   "execution_count": 1,
   "metadata": {},
   "outputs": [],
   "source": [
    "import sys\n",
    "import os\n",
    "\n",
    "notebook_dir = os.getcwd()\n",
    "parent_dir = os.path.dirname(notebook_dir)\n",
    "src_dir = os.path.join(parent_dir, 'src')\n",
    "\n",
    "sys.path.append(src_dir)\n",
    "\n",
    "from mersenne_cryptosystem import *\n",
    "\n",
    "import sys\n",
    "sys.set_int_max_str_digits(0)"
   ]
  },
  {
   "cell_type": "code",
   "execution_count": 2,
   "metadata": {},
   "outputs": [
    {
     "data": {
      "text/plain": [
       "'\\nlamb = 52\\nn = 11213\\nh = lamb\\n\\nmcs = MersenneCryptosystem(lamb, n, h)\\n\\nm = bitarray(string_to_bits(\"Era uma vez um cavalo que era belo e bem parado\"))\\n\\nm_prime = bitarray()\\n\\npk, sk = mcs.bit_by_bit_key_gen()\\n\\nfor char in m:\\n    cypher_bit = mcs.bit_by_bit_enc(pk, char)\\n    dec_bit = mcs.bit_by_bit_dec(sk, cypher_bit)\\n    if dec_bit == \\'⊥\\':\\n        dec_bit = \\'00100000\\' #whitespace\\n    m_prime += dec_bit\\n\\nprint(bits_to_string(m_prime))\\n'"
      ]
     },
     "execution_count": 2,
     "metadata": {},
     "output_type": "execute_result"
    }
   ],
   "source": [
    "'''\n",
    "lamb = 52\n",
    "n = 11213\n",
    "h = lamb\n",
    "\n",
    "mcs = MersenneCryptosystem(lamb, n, h)\n",
    "\n",
    "m = bitarray(string_to_bits(\"Era uma vez um cavalo que era belo e bem parado\"))\n",
    "\n",
    "m_prime = bitarray()\n",
    "\n",
    "pk, sk = mcs.bit_by_bit_key_gen()\n",
    "\n",
    "for char in m:\n",
    "    cypher_bit = mcs.bit_by_bit_enc(pk, char)\n",
    "    dec_bit = mcs.bit_by_bit_dec(sk, cypher_bit)\n",
    "    if dec_bit == '⊥':\n",
    "        dec_bit = '00100000' #whitespace\n",
    "    m_prime += dec_bit\n",
    "\n",
    "print(bits_to_string(m_prime))\n",
    "'''\n"
   ]
  },
  {
   "cell_type": "code",
   "execution_count": 3,
   "metadata": {},
   "outputs": [
    {
     "name": "stdout",
     "output_type": "stream",
     "text": [
      "bitarray('0000000000000000000000000000000000000000000000000000000000000000000000000000000000000000000000000000000000000000000000000000000000000000010001010111001001100001001000000111010101101101011000010010000001110110011001010111101000100000011101010110110100100000')\n",
      "bitarray('0000000000000000000000000000000000000000000000000000000000000000000000000000000000000000000000000000000000000000000000000000000000000000010001010111001001100001001000000111010101101101011000010010000001110110011001010111101000100000011101010110110100100000')\n",
      "bitarray('0110001101100001011101100110000101101100011011110010000001110001011101010110010100100000011001010111001001100001001000000110001001100101011011000110111100100000011001010010000001100010011001010110110100100000011100000110000101110010011000010110010001101111')\n",
      "bitarray('0110001101100001011101100110000101101100011011110010000001110001011101010110010100100000011001010111001001100001001000000110001001100101011011000110111100100000011001010010000001100010011001010110110100100000011100000110000101110010011000010110010001101111')\n"
     ]
    }
   ],
   "source": [
    "lamb = 256\n",
    "n = 756839\n",
    "h = lamb\n",
    "p = 2048\n",
    "\n",
    "mcs = MersenneCryptosystem(lamb, n, h)\n",
    "\n",
    "m = bitarray(string_to_bits(\"Era uma vez um cavalo que era belo e bem parado\"))\n",
    "\n",
    "m_padded = pad_to_n_bits(m, h)\n",
    "\n",
    "pk, sk = mcs.KeyGen()\n",
    "\n",
    "for i in range(0, len(m_padded), lamb):\n",
    "    print(m_padded[i:i+lamb])\n",
    "    cyphertext = mcs.Enc(pk, m_padded[i:i+lamb], p)\n",
    "    plaintext = mcs.Dec(sk, cyphertext, p)\n",
    "    print(plaintext)\n"
   ]
  }
 ],
 "metadata": {
  "kernelspec": {
   "display_name": "Python 3",
   "language": "python",
   "name": "python3"
  },
  "language_info": {
   "codemirror_mode": {
    "name": "ipython",
    "version": 3
   },
   "file_extension": ".py",
   "mimetype": "text/x-python",
   "name": "python",
   "nbconvert_exporter": "python",
   "pygments_lexer": "ipython3",
   "version": "3.10.12"
  }
 },
 "nbformat": 4,
 "nbformat_minor": 2
}
