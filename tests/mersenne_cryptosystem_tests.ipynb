{
 "cells": [
  {
   "cell_type": "code",
   "execution_count": 1,
   "metadata": {},
   "outputs": [],
   "source": [
    "import sys\n",
    "import os\n",
    "\n",
    "notebook_dir = os.getcwd()\n",
    "parent_dir = os.path.dirname(notebook_dir)\n",
    "src_dir = os.path.join(parent_dir, 'src')\n",
    "\n",
    "sys.path.append(src_dir)\n",
    "\n",
    "from mersenne_cryptosystem import *"
   ]
  },
  {
   "cell_type": "code",
   "execution_count": 2,
   "metadata": {},
   "outputs": [],
   "source": [
    "lamb = 52\n",
    "n = 11213\n",
    "h = lamb\n",
    "\n",
    "mcs = MersenneCryptosystem(lamb, n, h)"
   ]
  },
  {
   "cell_type": "code",
   "execution_count": 3,
   "metadata": {},
   "outputs": [
    {
     "name": "stdout",
     "output_type": "stream",
     "text": [
      "Era uma vez um cavalo que era belo e bem parado\n"
     ]
    }
   ],
   "source": [
    "m = bitarray(string_to_bits(\"Era uma vez um cavalo que era belo e bem parado\"))\n",
    "\n",
    "m_prime = bitarray()\n",
    "\n",
    "pk, sk = mcs.bit_by_bit_key_gen()\n",
    "\n",
    "for char in m:\n",
    "    cypher_bit = mcs.bit_by_bit_enc(pk, char)\n",
    "    dec_bit = mcs.bit_by_bit_dec(sk, cypher_bit)\n",
    "    if dec_bit == '⊥':\n",
    "        dec_bit = '00100000' #whitespace\n",
    "    m_prime += dec_bit\n",
    "\n",
    "print(bits_to_string(m_prime))\n"
   ]
  },
  {
   "cell_type": "code",
   "execution_count": null,
   "metadata": {},
   "outputs": [],
   "source": [
    "lamb = 52\n",
    "n = 11213\n",
    "h = lamb\n",
    "\n",
    "mcs = MersenneCryptosystem(lamb, n, h)"
   ]
  },
  {
   "cell_type": "code",
   "execution_count": 9,
   "metadata": {},
   "outputs": [
    {
     "name": "stdout",
     "output_type": "stream",
     "text": [
      "(bitarray('01011011110110000110011100110100100010111110110100111000110001101000010111111011000101010111111101011011010101001100010000100100'), bitarray('01100100110010100111100000001110001100100001100111110001101001101100010010110111101111111110011000001011011101101001010010110011')) bitarray('10111101000000101100101101101111011001110100100100001101001111010110111000101000011011010100000000111010011110010110011100011010')\n",
      "Message\n",
      "bitarray('0000000001000101011100100110000100100000011101010110110101100001')\n",
      "bitarray('00111100011101000110100101011011110101111000111100001001100010110110101001000111001010001100100001110010101111110110111100010010')\n",
      "Decrypted\n",
      "bitarray('0000000000000000000000010001001111011101101101010111110010101011')\n",
      "Message\n",
      "bitarray('0010000001110110011001010111101000100000011101010110110100100000')\n",
      "bitarray('00010100011001000111100000110110110001010001010001011111011010101100101010100110001011111001100001101010111010100111000110110100')\n",
      "Decrypted\n",
      "bitarray('0000000000000000000010000001100100001000010101111001000100000010')\n",
      "Message\n",
      "bitarray('0110001101100001011101100110000101101100011011110010000001110001')\n",
      "bitarray('11101101111100000101110100101100101001100110110001101000011101101111111001000110101011101000101011011011010000010101111011001110')\n",
      "Decrypted\n",
      "bitarray('0000000000000000000000000001110110100001011001011110100101110011')\n",
      "Message\n",
      "bitarray('0111010101100101001000000110010101110010011000010010000001100010')\n",
      "bitarray('10011101111101101110000011000111111110001011010110000100111010110111010011111111000110110001110101011110110011001010001010011001')\n",
      "Decrypted\n",
      "bitarray('0011110001010010100100001100011111110001000011101010110010100000')\n",
      "Message\n",
      "bitarray('0110010101101100011011110010000001100101001000000110001001100101')\n",
      "bitarray('00101001001110101101000100100011100101111010010001000010110100111101111000011100000111000001000111101111010001010111011011101111')\n",
      "Decrypted\n",
      "bitarray('1111011100100111110000011001001011101011001101101000000111111010')\n",
      "Message\n",
      "bitarray('0110110100100000011100000110000101110010011000010110010001101111')\n",
      "bitarray('10010110001111110101110101000101100100110001101110100111000111010001101101100000010010100011110011001011110011100110100111110001')\n",
      "Decrypted\n",
      "bitarray('0000000000000000000000000110001000011010000001111100111000111111')\n",
      "\u0000\u0000\u0001\u0013Ýµ|«\u0000W\u0002\u0000\u0000\u0000\u001d¡eés<RÇñ\u000e¬ ÷'Áë6ú\u0000\u0000\u0000b\u001a\u0007Î?\n"
     ]
    }
   ],
   "source": [
    "lamb = 64\n",
    "n = 44497\n",
    "h = lamb\n",
    "\n",
    "assert (16 * (64 ** 2) >= n > 10 * (64 ** 2))\n",
    "\n",
    "rm = ReedMullerCode(3, 7)\n",
    "\n",
    "mcs = MersenneCryptosystem(lamb, n, h)\n",
    "\n",
    "m = bitarray(string_to_bits(\"Era uma vez um cavalo que era belo e bem parado\"))\n",
    "\n",
    "m_padded = pad_to_n_bits(m, h)\n",
    "\n",
    "pk, sk = mcs.KeyGen()\n",
    "\n",
    "for i in range(0, len(m_padded), lamb):\n",
    "    cyphertext = mcs.Enc(pk, m_padded[i:i+lamb])\n"
   ]
  },
  {
   "cell_type": "code",
   "execution_count": 5,
   "metadata": {},
   "outputs": [
    {
     "name": "stdout",
     "output_type": "stream",
     "text": [
      "(bitarray('11'), bitarray('10'))\n",
      "bitarray('00')\n",
      "(bitarray('01'), bitarray('00'))\n"
     ]
    }
   ],
   "source": [
    "lamb = 64\n",
    "n = 128\n",
    "h = lamb\n",
    "\n",
    "rm = ReedMullerCode(3, 7)\n",
    "\n",
    "mcs = MersenneCryptosystem(lamb, n, h)\n",
    "\n",
    "\n",
    "pk, sk = mcs.KeyGen()\n",
    "\n"
   ]
  }
 ],
 "metadata": {
  "kernelspec": {
   "display_name": "Python 3",
   "language": "python",
   "name": "python3"
  },
  "language_info": {
   "codemirror_mode": {
    "name": "ipython",
    "version": 3
   },
   "file_extension": ".py",
   "mimetype": "text/x-python",
   "name": "python",
   "nbconvert_exporter": "python",
   "pygments_lexer": "ipython3",
   "version": "3.10.12"
  }
 },
 "nbformat": 4,
 "nbformat_minor": 2
}
