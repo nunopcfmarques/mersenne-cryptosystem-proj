{
 "cells": [
  {
   "cell_type": "code",
   "execution_count": 1,
   "metadata": {},
   "outputs": [],
   "source": [
    "import sys\n",
    "import os\n",
    "\n",
    "notebook_dir = os.getcwd()\n",
    "parent_dir = os.path.dirname(notebook_dir)\n",
    "src_dir = os.path.join(parent_dir, 'src')\n",
    "\n",
    "sys.path.append(src_dir)\n",
    "\n",
    "from mersenne_cryptosystem import *\n",
    "from repetition_codes import *\n",
    "\n",
    "import sys\n",
    "sys.set_int_max_str_digits(0)"
   ]
  },
  {
   "cell_type": "code",
   "execution_count": 2,
   "metadata": {},
   "outputs": [
    {
     "name": "stdout",
     "output_type": "stream",
     "text": [
      "Era uma vez um cavalo que era belo e bem parado\n"
     ]
    }
   ],
   "source": [
    "\n",
    "lamb = 52\n",
    "n = 11213\n",
    "h = lamb\n",
    "\n",
    "mcs = MersenneCryptosystem(lamb, n, h)\n",
    "\n",
    "m = bitarray(string_to_bits(\"Hello World. This is my project\"))\n",
    "\n",
    "m_prime = bitarray()\n",
    "\n",
    "pk, sk = mcs.bit_by_bit_key_gen()\n",
    "\n",
    "for char in m:\n",
    "    cypher_bit = mcs.bit_by_bit_enc(pk, char)\n",
    "    dec_bit = mcs.bit_by_bit_dec(sk, cypher_bit)\n",
    "    if dec_bit == '⊥':\n",
    "        dec_bit = '00100000' #whitespace\n",
    "    m_prime += dec_bit\n",
    "\n",
    "print(bits_to_string(m_prime))\n"
   ]
  },
  {
   "cell_type": "code",
   "execution_count": 3,
   "metadata": {},
   "outputs": [
    {
     "name": "stdout",
     "output_type": "stream",
     "text": [
      "\u0000\u0000\u0000\u0000\u0000\u0000\u0000\u0000\u0000\u0000\u0000\u0000\u0000\u0000\u0000\u0000\u0000\u0000\u0000\u0000\u0000Hallo World\n"
     ]
    }
   ],
   "source": [
    "\n",
    "lamb = 256\n",
    "n = 756839\n",
    "h = lamb\n",
    "p = 2048\n",
    "\n",
    "mcs = MersenneCryptosystem(lamb, n, h)\n",
    "\n",
    "m = bitarray(string_to_bits(\"Hello World\"))\n",
    "m_prime = \"\"\n",
    "\n",
    "m_padded = pad_to_n_bits(m, h)\n",
    "\n",
    "pk, sk = mcs.KeyGen()\n",
    "\n",
    "for i in range(0, len(m_padded), lamb):\n",
    "    cyphertext = mcs.Enc(pk, m_padded[i:i+lamb], enc_to_repetition_code, {'p': p})\n",
    "    plaintext = mcs.Dec(sk, cyphertext, dec_repetition_code_to_bits, {'p': p})\n",
    "    m_prime += bits_to_string(plaintext)\n",
    "\n",
    "print(m_prime)\n"
   ]
  },
  {
   "cell_type": "code",
   "execution_count": 4,
   "metadata": {},
   "outputs": [
    {
     "name": "stdout",
     "output_type": "stream",
     "text": [
      "bitarray('0011101000101101101101011101110101001011111111001000000110010000010000101001111001000011100001111001110100010100000111010111100010000100100111001110000101000001100100111110101110101010001000000001101100101000001110100000111001101100001000110000111100001000')\n",
      "256\n"
     ]
    }
   ],
   "source": [
    "lamb = 256\n",
    "n = 756839\n",
    "h = lamb\n",
    "p = 2048\n",
    "\n",
    "mcs = MersenneCryptosystem(lamb, n, h)\n",
    "\n",
    "pk, sk = mcs.KeyGen()\n",
    "C, K = mcs.Encaps(pk, enc_to_repetition_code, {'p': p})\n",
    "key = mcs.Decaps(pk, sk, C, enc_to_repetition_code, dec_repetition_code_to_bits, {'p': p}, {'p': p})\n",
    "print(key)\n",
    "print(len(key))"
   ]
  }
 ],
 "metadata": {
  "kernelspec": {
   "display_name": "Python 3",
   "language": "python",
   "name": "python3"
  },
  "language_info": {
   "codemirror_mode": {
    "name": "ipython",
    "version": 3
   },
   "file_extension": ".py",
   "mimetype": "text/x-python",
   "name": "python",
   "nbconvert_exporter": "python",
   "pygments_lexer": "ipython3",
   "version": "3.10.12"
  }
 },
 "nbformat": 4,
 "nbformat_minor": 2
}
