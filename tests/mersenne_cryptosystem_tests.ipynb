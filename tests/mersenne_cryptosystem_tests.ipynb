{
 "cells": [
  {
   "cell_type": "code",
   "execution_count": 1,
   "metadata": {},
   "outputs": [],
   "source": [
    "import sys\n",
    "import os\n",
    "\n",
    "notebook_dir = os.getcwd()\n",
    "parent_dir = os.path.dirname(notebook_dir)\n",
    "src_dir = os.path.join(parent_dir, 'src')\n",
    "\n",
    "sys.path.append(src_dir)\n",
    "\n",
    "from mersenne_cryptosystem import *\n",
    "\n",
    "import sys\n",
    "sys.set_int_max_str_digits(0)"
   ]
  },
  {
   "cell_type": "code",
   "execution_count": 2,
   "metadata": {},
   "outputs": [
    {
     "data": {
      "text/plain": [
       "'\\nlamb = 52\\nn = 11213\\nh = lamb\\n\\nmcs = MersenneCryptosystem(lamb, n, h)\\n\\nm = bitarray(string_to_bits(\"Era uma vez um cavalo que era belo e bem parado\"))\\n\\nm_prime = bitarray()\\n\\npk, sk = mcs.bit_by_bit_key_gen()\\n\\nfor char in m:\\n    cypher_bit = mcs.bit_by_bit_enc(pk, char)\\n    dec_bit = mcs.bit_by_bit_dec(sk, cypher_bit)\\n    if dec_bit == \\'⊥\\':\\n        dec_bit = \\'00100000\\' #whitespace\\n    m_prime += dec_bit\\n\\nprint(bits_to_string(m_prime))\\n'"
      ]
     },
     "execution_count": 2,
     "metadata": {},
     "output_type": "execute_result"
    }
   ],
   "source": [
    "\n",
    "lamb = 52\n",
    "n = 11213\n",
    "h = lamb\n",
    "\n",
    "mcs = MersenneCryptosystem(lamb, n, h)\n",
    "\n",
    "m = bitarray(string_to_bits(\"Era uma vez um cavalo que era belo e bem parado\"))\n",
    "\n",
    "m_prime = bitarray()\n",
    "\n",
    "pk, sk = mcs.bit_by_bit_key_gen()\n",
    "\n",
    "for char in m:\n",
    "    cypher_bit = mcs.bit_by_bit_enc(pk, char)\n",
    "    dec_bit = mcs.bit_by_bit_dec(sk, cypher_bit)\n",
    "    if dec_bit == '⊥':\n",
    "        dec_bit = '00100000' #whitespace\n",
    "    m_prime += dec_bit\n",
    "\n",
    "print(bits_to_string(m_prime))\n"
   ]
  },
  {
   "cell_type": "code",
   "execution_count": 3,
   "metadata": {},
   "outputs": [
    {
     "data": {
      "text/plain": [
       "'\\nlamb = 256\\nn = 756839\\nh = lamb\\np = 2048\\n\\nmcs = MersenneCryptosystem(lamb, n, h)\\n\\nm = bitarray(string_to_bits(\"Hallo World\"))\\nm_prime = \"\"\\n\\nm_padded = pad_to_n_bits(m, h)\\n\\npk, sk = mcs.KeyGen()\\n\\nfor i in range(0, len(m_padded), lamb):\\n    cyphertext = mcs.Enc(pk, m_padded[i:i+lamb], enc_to_repetition_code, {\\'p\\': p})\\n    plaintext = mcs.Dec(sk, cyphertext, dec_repetition_code_to_bits, {\\'p\\': p})\\n    m_prime += bits_to_string(plaintext)\\n\\nprint(m_prime)\\n'"
      ]
     },
     "execution_count": 3,
     "metadata": {},
     "output_type": "execute_result"
    }
   ],
   "source": [
    "\n",
    "lamb = 256\n",
    "n = 756839\n",
    "h = lamb\n",
    "p = 2048\n",
    "\n",
    "mcs = MersenneCryptosystem(lamb, n, h)\n",
    "\n",
    "m = bitarray(string_to_bits(\"Hallo World\"))\n",
    "m_prime = \"\"\n",
    "\n",
    "m_padded = pad_to_n_bits(m, h)\n",
    "\n",
    "pk, sk = mcs.KeyGen()\n",
    "\n",
    "for i in range(0, len(m_padded), lamb):\n",
    "    cyphertext = mcs.Enc(pk, m_padded[i:i+lamb], enc_to_repetition_code, {'p': p})\n",
    "    plaintext = mcs.Dec(sk, cyphertext, dec_repetition_code_to_bits, {'p': p})\n",
    "    m_prime += bits_to_string(plaintext)\n",
    "\n",
    "print(m_prime)\n"
   ]
  },
  {
   "cell_type": "code",
   "execution_count": 4,
   "metadata": {},
   "outputs": [
    {
     "name": "stdout",
     "output_type": "stream",
     "text": [
      "bitarray('1101101101000011110000000000000111010011101001100101001001001111110101100001001100000111100101110011000110110111010001100000011110100000101100101110000101001011000111100101011100111001101101110111101111010001000111110101101111000111000010010011101000100111')\n"
     ]
    }
   ],
   "source": [
    "lamb = 256\n",
    "n = 756839\n",
    "h = lamb\n",
    "p = 2048\n",
    "\n",
    "mcs = MersenneCryptosystem(lamb, n, h)\n",
    "\n",
    "pk, sk = mcs.KeyGen()\n",
    "C, K = mcs.Encaps(pk, enc_to_repetition_code, {'p': p})\n",
    "key = mcs.Decaps(pk, sk, C, enc_to_repetition_code, dec_repetition_code_to_bits, {'p': p}, {'p': p})\n",
    "print(key)"
   ]
  }
 ],
 "metadata": {
  "kernelspec": {
   "display_name": "Python 3",
   "language": "python",
   "name": "python3"
  },
  "language_info": {
   "codemirror_mode": {
    "name": "ipython",
    "version": 3
   },
   "file_extension": ".py",
   "mimetype": "text/x-python",
   "name": "python",
   "nbconvert_exporter": "python",
   "pygments_lexer": "ipython3",
   "version": "3.10.12"
  }
 },
 "nbformat": 4,
 "nbformat_minor": 2
}
