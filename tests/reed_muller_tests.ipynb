{
 "cells": [
  {
   "cell_type": "code",
   "execution_count": 1,
   "metadata": {},
   "outputs": [],
   "source": [
    "import sys\n",
    "import os\n",
    "from bitarray import bitarray\n",
    "\n",
    "notebook_dir = os.getcwd()\n",
    "parent_dir = os.path.dirname(notebook_dir)\n",
    "src_dir = os.path.join(parent_dir, 'src')\n",
    "\n",
    "sys.path.append(src_dir)\n",
    "\n",
    "from reed_muller import *"
   ]
  },
  {
   "cell_type": "markdown",
   "metadata": {},
   "source": [
    "The functions in reed_muller don't need to be individually tested. If the encoding and decoding are working so are all of the functions in the class / module.\n",
    "\n",
    "Let's try to encode and decode some stuff with and without errors."
   ]
  },
  {
   "cell_type": "code",
   "execution_count": 4,
   "metadata": {},
   "outputs": [],
   "source": [
    "# Small Parameters, otherwise it takes a really long time to test.\n",
    "\n",
    "r = 2\n",
    "m = 4\n",
    "\n",
    "rm = ReedMullerCode(r, m)\n",
    "\n",
    "all_possible_messages = generate_bit_arrays(rm.k)\n",
    "all_possible_errors = [bitarray for bitarray in generate_bit_arrays(rm.n) if 0 < ham(bitarray) <= rm.max_errors]\n",
    "\n",
    "for bitarray in all_possible_messages:\n",
    "    enc = rm.encode(bitarray)\n",
    "    dec = rm.decode(enc)\n",
    "\n",
    "    assert(bitarray == dec) # this checks if we can encode and decode correctly every single message of lenght k\n",
    "\n",
    "    for error in all_possible_errors:\n",
    "        add_error = add_bitarrays(error, enc)\n",
    "        dec_error = rm.decode(add_error)\n",
    "        assert(bitarray == dec_error) # this checks if it corrected the error\n"
   ]
  }
 ],
 "metadata": {
  "kernelspec": {
   "display_name": "Python 3",
   "language": "python",
   "name": "python3"
  },
  "language_info": {
   "codemirror_mode": {
    "name": "ipython",
    "version": 3
   },
   "file_extension": ".py",
   "mimetype": "text/x-python",
   "name": "python",
   "nbconvert_exporter": "python",
   "pygments_lexer": "ipython3",
   "version": "3.10.12"
  }
 },
 "nbformat": 4,
 "nbformat_minor": 2
}
