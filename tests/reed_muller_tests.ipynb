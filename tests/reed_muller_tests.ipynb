{
 "cells": [
  {
   "cell_type": "code",
   "execution_count": 1,
   "metadata": {},
   "outputs": [],
   "source": [
    "import sys\n",
    "import os\n",
    "from bitarray import bitarray\n",
    "\n",
    "notebook_dir = os.getcwd()\n",
    "parent_dir = os.path.dirname(notebook_dir)\n",
    "src_dir = os.path.join(parent_dir, 'src')\n",
    "\n",
    "sys.path.append(src_dir)\n",
    "\n",
    "from reed_muller import *"
   ]
  },
  {
   "cell_type": "markdown",
   "metadata": {},
   "source": [
    "The functions in reed_muller don't need to be individually tested. If the encoding and decoding are working so are all of the functions in the class / module.\n",
    "\n",
    "Let's try to encode and decode some stuff with and without errors."
   ]
  },
  {
   "cell_type": "code",
   "execution_count": 4,
   "metadata": {},
   "outputs": [],
   "source": [
    "# Small Parameters, otherwise it takes a really long time to test.\n",
    "\n",
    "r = 2\n",
    "m = 4\n",
    "\n",
    "rm = ReedMullerCode(r, m)\n",
    "\n",
    "all_possible_messages = generate_bit_arrays(rm.k)\n",
    "all_possible_errors = [bitarray for bitarray in generate_bit_arrays(rm.n) if 0 < ham(bitarray) <= rm.max_errors]\n",
    "\n",
    "for bitarray in all_possible_messages:\n",
    "    enc = rm.encode(bitarray)\n",
    "    dec = rm.decode(enc)\n",
    "\n",
    "    assert(bitarray == dec) # this checks if we can encode and decode correctly every single message of lenght k\n",
    "\n",
    "    for error in all_possible_errors:\n",
    "        add_error = add_bitarrays(error, enc)\n",
    "        dec_error = rm.decode(add_error)\n",
    "        assert(bitarray == dec_error) # this checks if it corrected the error\n"
   ]
  },
  {
   "cell_type": "code",
   "execution_count": 26,
   "metadata": {},
   "outputs": [
    {
     "ename": "IndexError",
     "evalue": "list index out of range",
     "output_type": "error",
     "traceback": [
      "\u001b[0;31m---------------------------------------------------------------------------\u001b[0m",
      "\u001b[0;31mIndexError\u001b[0m                                Traceback (most recent call last)",
      "Cell \u001b[0;32mIn[26], line 18\u001b[0m\n\u001b[1;32m     14\u001b[0m d \u001b[38;5;241m=\u001b[39m bitarray(\u001b[38;5;124m'\u001b[39m\u001b[38;5;124m01\u001b[39m\u001b[38;5;124m'\u001b[39m)\n\u001b[1;32m     16\u001b[0m (C1, C2) \u001b[38;5;241m=\u001b[39m (add_bitarrays(A \u001b[38;5;241m&\u001b[39m R, B1), add_bitarrays(A \u001b[38;5;241m&\u001b[39m pk[\u001b[38;5;241m1\u001b[39m], B2) \u001b[38;5;241m^\u001b[39m rm\u001b[38;5;241m.\u001b[39mencode(bitarray(\u001b[38;5;124m'\u001b[39m\u001b[38;5;124m01101001010\u001b[39m\u001b[38;5;124m'\u001b[39m)))\n\u001b[0;32m---> 18\u001b[0m dec \u001b[38;5;241m=\u001b[39m \u001b[43mrm\u001b[49m\u001b[38;5;241;43m.\u001b[39;49m\u001b[43mdecode\u001b[49m\u001b[43m(\u001b[49m\u001b[43m(\u001b[49m\u001b[43mF\u001b[49m\u001b[43m \u001b[49m\u001b[38;5;241;43m&\u001b[39;49m\u001b[43m \u001b[49m\u001b[43mC1\u001b[49m\u001b[43m)\u001b[49m\u001b[43m \u001b[49m\u001b[38;5;241;43m^\u001b[39;49m\u001b[43m \u001b[49m\u001b[43mC2\u001b[49m\u001b[43m)\u001b[49m\n\u001b[1;32m     20\u001b[0m \u001b[38;5;28mprint\u001b[39m(dec)\n",
      "File \u001b[0;32m~/mersenne-cryptosystem-proj/src/reed_muller.py:159\u001b[0m, in \u001b[0;36mReedMullerCode.decode\u001b[0;34m(self, message)\u001b[0m\n\u001b[1;32m    157\u001b[0m         decoded_message[pos] \u001b[38;5;241m=\u001b[39m \u001b[38;5;241m0\u001b[39m \u001b[38;5;28;01mif\u001b[39;00m count_0 \u001b[38;5;241m>\u001b[39m count_1 \u001b[38;5;28;01melse\u001b[39;00m \u001b[38;5;241m1\u001b[39m\n\u001b[1;32m    158\u001b[0m         pos \u001b[38;5;241m-\u001b[39m\u001b[38;5;241m=\u001b[39m \u001b[38;5;241m1\u001b[39m\n\u001b[0;32m--> 159\u001b[0m s \u001b[38;5;241m=\u001b[39m \u001b[43mmatrix_product\u001b[49m\u001b[43m(\u001b[49m\u001b[43mdecoded_message\u001b[49m\u001b[43m[\u001b[49m\u001b[43mpos\u001b[49m\u001b[43m \u001b[49m\u001b[38;5;241;43m+\u001b[39;49m\u001b[43m \u001b[49m\u001b[38;5;241;43m1\u001b[39;49m\u001b[43m:\u001b[49m\u001b[43m \u001b[49m\u001b[43mpos\u001b[49m\u001b[43m \u001b[49m\u001b[38;5;241;43m+\u001b[39;49m\u001b[43m \u001b[49m\u001b[38;5;28;43mlen\u001b[39;49m\u001b[43m(\u001b[49m\u001b[38;5;28;43mself\u001b[39;49m\u001b[38;5;241;43m.\u001b[39;49m\u001b[43mdegree_to_rows\u001b[49m\u001b[43m[\u001b[49m\u001b[43mdegree\u001b[49m\u001b[43m]\u001b[49m\u001b[43m)\u001b[49m\u001b[43m \u001b[49m\u001b[38;5;241;43m+\u001b[39;49m\u001b[43m \u001b[49m\u001b[38;5;241;43m1\u001b[39;49m\u001b[43m]\u001b[49m\u001b[43m,\u001b[49m\u001b[43m \u001b[49m\u001b[38;5;28;43mself\u001b[39;49m\u001b[38;5;241;43m.\u001b[39;49m\u001b[43mgenerator_matrix\u001b[49m\u001b[43m[\u001b[49m\u001b[43mpos\u001b[49m\u001b[43m \u001b[49m\u001b[38;5;241;43m+\u001b[39;49m\u001b[43m \u001b[49m\u001b[38;5;241;43m1\u001b[39;49m\u001b[43m:\u001b[49m\u001b[43m \u001b[49m\u001b[43mpos\u001b[49m\u001b[43m \u001b[49m\u001b[38;5;241;43m+\u001b[39;49m\u001b[43m \u001b[49m\u001b[38;5;28;43mlen\u001b[39;49m\u001b[43m(\u001b[49m\u001b[38;5;28;43mself\u001b[39;49m\u001b[38;5;241;43m.\u001b[39;49m\u001b[43mdegree_to_rows\u001b[49m\u001b[43m[\u001b[49m\u001b[43mdegree\u001b[49m\u001b[43m]\u001b[49m\u001b[43m)\u001b[49m\u001b[43m \u001b[49m\u001b[38;5;241;43m+\u001b[39;49m\u001b[43m \u001b[49m\u001b[38;5;241;43m1\u001b[39;49m\u001b[43m]\u001b[49m\u001b[43m)\u001b[49m\n\u001b[1;32m    160\u001b[0m message \u001b[38;5;241m=\u001b[39m add_bitarrays(s, message)\n\u001b[1;32m    161\u001b[0m degree \u001b[38;5;241m-\u001b[39m\u001b[38;5;241m=\u001b[39m \u001b[38;5;241m1\u001b[39m\n",
      "File \u001b[0;32m~/mersenne-cryptosystem-proj/src/reed_muller.py:20\u001b[0m, in \u001b[0;36mmatrix_product\u001b[0;34m(x, y)\u001b[0m\n\u001b[1;32m     18\u001b[0m \u001b[38;5;28;01mfor\u001b[39;00m i \u001b[38;5;129;01min\u001b[39;00m \u001b[38;5;28mrange\u001b[39m(\u001b[38;5;28mlen\u001b[39m(x)):\n\u001b[1;32m     19\u001b[0m     row_result \u001b[38;5;241m=\u001b[39m bitarray()\n\u001b[0;32m---> 20\u001b[0m     \u001b[38;5;28;01mfor\u001b[39;00m j \u001b[38;5;129;01min\u001b[39;00m \u001b[38;5;28mrange\u001b[39m(\u001b[38;5;28mlen\u001b[39m(\u001b[43my\u001b[49m\u001b[43m[\u001b[49m\u001b[38;5;241;43m0\u001b[39;49m\u001b[43m]\u001b[49m)):\n\u001b[1;32m     21\u001b[0m         column_bits \u001b[38;5;241m=\u001b[39m bitarray()\n\u001b[1;32m     22\u001b[0m         \u001b[38;5;28;01mfor\u001b[39;00m row \u001b[38;5;129;01min\u001b[39;00m y:\n",
      "\u001b[0;31mIndexError\u001b[0m: list index out of range"
     ]
    }
   ],
   "source": [
    "from bitarray import bitarray\n",
    "F = generate_random_n_hamming_weight_bitarray(16, 2)\n",
    "G = generate_random_n_hamming_weight_bitarray(16, 2)\n",
    "R = generate_random_n_bitarray(16)\n",
    "\n",
    "pk = (R, add_bitarrays(F & R, G))\n",
    "\n",
    "A = generate_random_n_hamming_weight_bitarray(16, 2)\n",
    "B1 = generate_random_n_hamming_weight_bitarray(16, 2)\n",
    "B2 = generate_random_n_hamming_weight_bitarray(16, 2)\n",
    "\n",
    "rm = ReedMullerCode(2, 4)\n",
    "\n",
    "(C1, C2) = (add_bitarrays(A & R, B1), add_bitarrays(A & pk[1], B2) ^ rm.encode(bitarray('01101001010')))\n",
    "\n",
    "dec = rm.decode((F & C1) ^ C2)\n",
    "\n",
    "print(dec)"
   ]
  }
 ],
 "metadata": {
  "kernelspec": {
   "display_name": "Python 3",
   "language": "python",
   "name": "python3"
  },
  "language_info": {
   "codemirror_mode": {
    "name": "ipython",
    "version": 3
   },
   "file_extension": ".py",
   "mimetype": "text/x-python",
   "name": "python",
   "nbconvert_exporter": "python",
   "pygments_lexer": "ipython3",
   "version": "3.10.12"
  }
 },
 "nbformat": 4,
 "nbformat_minor": 2
}
