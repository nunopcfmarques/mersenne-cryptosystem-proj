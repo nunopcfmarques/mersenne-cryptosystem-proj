{
 "cells": [
  {
   "cell_type": "code",
   "execution_count": 1,
   "metadata": {},
   "outputs": [],
   "source": [
    "import sys\n",
    "import os\n",
    "\n",
    "notebook_dir = os.getcwd()\n",
    "parent_dir = os.path.dirname(notebook_dir)\n",
    "src_dir = os.path.join(parent_dir, 'src')\n",
    "\n",
    "sys.path.append(src_dir)\n",
    "\n",
    "from math_utils import *"
   ]
  },
  {
   "cell_type": "code",
   "execution_count": 2,
   "metadata": {},
   "outputs": [
    {
     "name": "stdout",
     "output_type": "stream",
     "text": [
      "[bitarray('000'), bitarray('001'), bitarray('010'), bitarray('011'), bitarray('100'), bitarray('101'), bitarray('110'), bitarray('111')]\n",
      "bitarray('00001')\n"
     ]
    }
   ],
   "source": [
    "assert jacobi_symbol(498576945876948576, 2734672637462777) == 0\n",
    "\n",
    "assert is_prime(17) == True\n",
    "assert is_prime(15) == False\n",
    "assert is_prime(19) == True\n",
    "\n",
    "assert lucas_lehmer(7, 3) == True\n",
    "assert lucas_lehmer(7, 4) == False\n",
    "assert lucas_lehmer(31, 5) == True\n",
    "\n",
    "assert is_mersenne_prime(3, 2) == True\n",
    "assert is_mersenne_prime(3, 3) == False\n",
    "assert is_mersenne_prime(127, 7) == True\n",
    "assert is_mersenne_prime((2 ** 11213) - 1,11213)\n",
    "\n",
    "print(generate_bit_arrays(3))\n",
    "\n",
    "print(generate_random_n_bitarray(5))\n",
    "\n",
    "assert ham(generate_random_n_hamming_weight_bitarray(8, 3)) == 3\n",
    "\n",
    "assert EED(240, 46) == (2, -9, 47)\n",
    "\n",
    "assert inverse_modulo(7, 11) == 8"
   ]
  }
 ],
 "metadata": {
  "kernelspec": {
   "display_name": "Python 3",
   "language": "python",
   "name": "python3"
  },
  "language_info": {
   "codemirror_mode": {
    "name": "ipython",
    "version": 3
   },
   "file_extension": ".py",
   "mimetype": "text/x-python",
   "name": "python",
   "nbconvert_exporter": "python",
   "pygments_lexer": "ipython3",
   "version": "3.10.12"
  }
 },
 "nbformat": 4,
 "nbformat_minor": 2
}
