{
 "cells": [
  {
   "cell_type": "markdown",
   "metadata": {
    "slideshow": {
     "slide_type": "slide"
    }
   },
   "source": [
    "## <center><font color=blue>Implementing Mersenne Prime Cryptosystem</font></center>\n",
    "### <center>Nuno Marques, Cryptography and Security Protocols, 2023/24</center>\n",
    "#### <center>Instituto Superior Técnico, Universidade de Lisboa</center>"
   ]
  }
 ],
 "metadata": {
  "language_info": {
   "name": "python"
  }
 },
 "nbformat": 4,
 "nbformat_minor": 2
}
