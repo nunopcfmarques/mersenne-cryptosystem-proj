{
 "cells": [
  {
   "cell_type": "code",
   "execution_count": 1,
   "metadata": {},
   "outputs": [],
   "source": [
    "import sys\n",
    "import os\n",
    "\n",
    "current_dir = os.getcwd()\n",
    "src_dir = os.path.join(current_dir, 'src')\n",
    "\n",
    "if src_dir not in sys.path:\n",
    "    sys.path.append(src_dir)\n",
    "\n",
    "from mersenne_cryptosystem import *\n",
    "from repetition_codes import *\n",
    "from reed_muller import *\n",
    "from math_utils import *\n",
    "from math import comb"
   ]
  },
  {
   "cell_type": "markdown",
   "metadata": {},
   "source": [
    "# Mersenne Cryptosystem Project\n",
    "\n",
    "Name: Nuno Marques\n",
    "\n",
    "Number: 95758\n",
    "\n",
    "Course: MMA"
   ]
  },
  {
   "cell_type": "markdown",
   "metadata": {},
   "source": [
    "This project implements both bit-by-bit encryption and standard encryption as they are described in the paper. It also implements KeyEncapsulation.\n",
    "\n",
    "\n",
    "Note: Instead of using strings to represent strings of bits, we import a library called 'bitarray' to represent those strings. This should save memory and is more readable than lists containing 'True' and 'False', which some use to represent strings of bits."
   ]
  },
  {
   "cell_type": "markdown",
   "metadata": {},
   "source": [
    "## Bit-by-bit encryption\n",
    "\n",
    "The functions that implement this are located in src/mersenne_cryptosystem.\n",
    "\n",
    "For demonstration, we choose $\\lambda = h = 52$ and $n = 11213$.\n",
    "\n",
    "Let's check these parameters fulfill conditions given in the paper:"
   ]
  },
  {
   "cell_type": "code",
   "execution_count": 2,
   "metadata": {},
   "outputs": [
    {
     "name": "stdout",
     "output_type": "stream",
     "text": [
      "True\n",
      "True\n",
      "True\n",
      "True\n"
     ]
    }
   ],
   "source": [
    "lamb = 52\n",
    "h = lamb\n",
    "n = 11213\n",
    "\n",
    "print(is_prime(n)) # Checks if n is prime using Solovay–Strassen primality test.\n",
    "print(is_mersenne_prime(2 ** (n) - 1, n)) # Checks quickly if p = 2 ** (n) - 1 is a Mersenne Prime using Lucas Lehmer algorithm\n",
    "print(comb(n, h) >= 2 ** lamb)\n",
    "print(4 * (h ** 2) < n)"
   ]
  },
  {
   "cell_type": "markdown",
   "metadata": {},
   "source": [
    "Now that we have our parameters, let's instantiate a cryptosystem generate our public key and our secret key:"
   ]
  },
  {
   "cell_type": "code",
   "execution_count": 3,
   "metadata": {},
   "outputs": [],
   "source": [
    "mcs = MersenneCryptosystem(lamb, n, h)\n",
    "pk, sk = mcs.bit_by_bit_key_gen()"
   ]
  },
  {
   "cell_type": "markdown",
   "metadata": {},
   "source": [
    "Let's encrypt and decrypt a message $m$ to see if our cryptosystem works. Remember we are dealing with bitarrays, so we need to convert the message to bits and then convert back to text."
   ]
  },
  {
   "cell_type": "code",
   "execution_count": 4,
   "metadata": {},
   "outputs": [
    {
     "name": "stdout",
     "output_type": "stream",
     "text": [
      "Hello World. This is my crypto project.\n"
     ]
    }
   ],
   "source": [
    "m = bitarray(string_to_bits(\"Hello World. This is my crypto project.\"))\n",
    "\n",
    "m_prime = bitarray()\n",
    "\n",
    "pk, sk = mcs.bit_by_bit_key_gen()\n",
    "\n",
    "for char in m:\n",
    "    cypher_bit = mcs.bit_by_bit_enc(pk, char)\n",
    "    dec_bit = mcs.bit_by_bit_dec(sk, cypher_bit)\n",
    "    if dec_bit == '⊥':\n",
    "        dec_bit = '00100000' #whitespace\n",
    "    m_prime += dec_bit\n",
    "\n",
    "print(bits_to_string(m_prime))"
   ]
  },
  {
   "cell_type": "markdown",
   "metadata": {},
   "source": [
    "## Main Cryptosystem"
   ]
  },
  {
   "cell_type": "markdown",
   "metadata": {},
   "source": [
    "Let's move on to the scheme that allows us to encrypt more than one bit at a time.\n",
    "\n",
    "Here we choose the parameters $\\lambda = h = 256$ and $n = 756839$, since they were recommended by the paper."
   ]
  },
  {
   "cell_type": "code",
   "execution_count": 5,
   "metadata": {},
   "outputs": [],
   "source": [
    "lamb = 256\n",
    "h = lamb\n",
    "n = 756839\n",
    "\n",
    "error_correcting_code_encoder = enc_to_repetition_code\n",
    "error_correcting_code_decoder = dec_repetition_code_to_bits\n",
    "\n",
    "mcs = MersenneCryptosystem(lamb, n, h)"
   ]
  },
  {
   "cell_type": "markdown",
   "metadata": {},
   "source": [
    "Let's generate the public and private key:"
   ]
  },
  {
   "cell_type": "code",
   "execution_count": 6,
   "metadata": {},
   "outputs": [],
   "source": [
    "pk, sk = mcs.KeyGen()"
   ]
  },
  {
   "cell_type": "markdown",
   "metadata": {},
   "source": [
    "Let's encrypt and decrypt a message. Since the encryption only reads $\\lambda$ bits at a time, we pad the message with whitespaces so it becomes a multiple of $\\lambda$. We will also only use repetition codes as our error correcting function, which are implemented in src/repetition_codes. Reed Muller was also implemented, and it is fully functional (see tests/reed_muller_tests), but it takes more time. We choose $p = 2048$.\n",
    "\n",
    "Note: because of our parameters this might take some time!"
   ]
  },
  {
   "cell_type": "code",
   "execution_count": 7,
   "metadata": {},
   "outputs": [
    {
     "name": "stdout",
     "output_type": "stream",
     "text": [
      "Hello World. Again, this is my very simple cryptosystem project.\n"
     ]
    }
   ],
   "source": [
    "p = 2048\n",
    "\n",
    "m = bitarray(string_to_bits(\"Hello World. Again, this is my very simple cryptosystem project.\"))\n",
    "m_prime = \"\"\n",
    "\n",
    "m_padded = pad_to_n_bits(m, h)\n",
    "\n",
    "for i in range(0, len(m_padded), lamb):\n",
    "    cyphertext = mcs.Enc(pk, m_padded[i:i+lamb], enc_to_repetition_code, {'p': p})\n",
    "    plaintext = mcs.Dec(sk, cyphertext, dec_repetition_code_to_bits, {'p': p})\n",
    "    m_prime += bits_to_string(plaintext)\n",
    "\n",
    "print(m_prime)"
   ]
  },
  {
   "cell_type": "markdown",
   "metadata": {},
   "source": [
    "## Key Encapsulation"
   ]
  },
  {
   "cell_type": "markdown",
   "metadata": {},
   "source": [
    "We use the same parameters as before"
   ]
  },
  {
   "cell_type": "code",
   "execution_count": 8,
   "metadata": {},
   "outputs": [],
   "source": [
    "pk, sk = mcs.KeyGen()\n",
    "C, K = mcs.Encaps(pk, enc_to_repetition_code, {'p': p})\n",
    "key = mcs.Decaps(pk, sk, C, enc_to_repetition_code, dec_repetition_code_to_bits, {'p': p}, {'p': p})"
   ]
  },
  {
   "cell_type": "markdown",
   "metadata": {},
   "source": [
    "We use this key on a simple one time pad for a 32 byte message."
   ]
  },
  {
   "cell_type": "code",
   "execution_count": 9,
   "metadata": {},
   "outputs": [
    {
     "name": "stdout",
     "output_type": "stream",
     "text": [
      "hellothisismycryptoprojectoagain\n"
     ]
    }
   ],
   "source": [
    "key_to_list_of_ints = list(key.tobytes())\n",
    "\n",
    "m = \"hellothisismycryptoprojectoagain\"\n",
    "m_to_int = [(ord(char) - 97) for char in m]\n",
    "\n",
    "enc = [(((m_to_int[i]) + num) % 26) for i, num in enumerate(key_to_list_of_ints)]\n",
    "\n",
    "dec = [(((enc[i]) - num) % 26) for i, num in enumerate(key_to_list_of_ints)]\n",
    "\n",
    "print(''.join([chr(i + 97) for i in dec]))\n"
   ]
  },
  {
   "cell_type": "markdown",
   "metadata": {},
   "source": [
    "Lastly, I list some of the references I used while coding this project because I think they are worth mentioning:\n",
    "\n",
    "[1] - https://github.com/thenaesh/mersenne-pkc. This repository implements bit-by-bit encryption in Rust.\n",
    "\n",
    "[2] - https://github.com/sraaphorst/reed-muller-python. I used the report as a reference to implement Reed Muller codes."
   ]
  }
 ],
 "metadata": {
  "kernelspec": {
   "display_name": "Python 3",
   "language": "python",
   "name": "python3"
  },
  "language_info": {
   "codemirror_mode": {
    "name": "ipython",
    "version": 3
   },
   "file_extension": ".py",
   "mimetype": "text/x-python",
   "name": "python",
   "nbconvert_exporter": "python",
   "pygments_lexer": "ipython3",
   "version": "3.10.12"
  }
 },
 "nbformat": 4,
 "nbformat_minor": 2
}
